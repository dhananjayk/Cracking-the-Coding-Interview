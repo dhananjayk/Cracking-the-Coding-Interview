{
 "cells": [
  {
   "cell_type": "code",
   "execution_count": 13,
   "metadata": {},
   "outputs": [],
   "source": [
    "# Implement an algorithm to determine if string has all unique characters. \n",
    "#What if you cannot use additional data structures\n",
    "\n",
    "def has_unique_characters(s):\n",
    "    \"\"\"\n",
    "    :type s: str\n",
    "    :rtype: bool\n",
    "    \n",
    "    \"\"\"\n",
    "    memory = dict()\n",
    "    for char in s:\n",
    "        memory.setdefault(char, 0)\n",
    "        memory[char] += 1\n",
    "    for k, v in memory.items():\n",
    "        if v > 1:\n",
    "            return False\n",
    "    return True\n",
    "\n",
    "def has_unique_characters2(s):\n",
    "    \"\"\"\n",
    "    :type s: str\n",
    "    :rtype: bool\n",
    "    \n",
    "    \"\"\"\n",
    "    s = sorted(s)\n",
    "    prev = ''\n",
    "    for char in s:\n",
    "        if char == prev:\n",
    "            return False\n",
    "        prev = char\n",
    "    return True\n"
   ]
  },
  {
   "cell_type": "code",
   "execution_count": 19,
   "metadata": {},
   "outputs": [
    {
     "name": "stdout",
     "output_type": "stream",
     "text": [
      "6.83 µs ± 261 ns per loop (mean ± std. dev. of 7 runs, 100000 loops each)\n"
     ]
    }
   ],
   "source": [
    "%timeit has_unique_characters('abcdefghijklmnopqrst')"
   ]
  }
 ],
 "metadata": {
  "kernelspec": {
   "display_name": "Python 3",
   "language": "python",
   "name": "python3"
  },
  "language_info": {
   "codemirror_mode": {
    "name": "ipython",
    "version": 3
   },
   "file_extension": ".py",
   "mimetype": "text/x-python",
   "name": "python",
   "nbconvert_exporter": "python",
   "pygments_lexer": "ipython3",
   "version": "3.6.5"
  }
 },
 "nbformat": 4,
 "nbformat_minor": 2
}
