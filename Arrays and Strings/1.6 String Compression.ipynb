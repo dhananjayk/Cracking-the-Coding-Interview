{
 "cells": [
  {
   "cell_type": "code",
   "execution_count": 14,
   "metadata": {},
   "outputs": [],
   "source": [
    "# String Compression: Implement a method to perform basic string compression using the counts\n",
    "# of repeated characters. For example, the string aabcccccaaa would become a2b1c5a3. If the\n",
    "# \"compressed\" string would not become smaller than the original string, your method should return\n",
    "# the original string. You can assume the string has only uppercase and lowercase letters (a - z).\n",
    "\n",
    "\n",
    "def compress(s):\n",
    "    if not s:\n",
    "        return ''\n",
    "    prev, count = s[0], 1\n",
    "    res = []\n",
    "    for i in range(1,len(s)):\n",
    "        if s[i] == prev:\n",
    "            count += 1\n",
    "        else:\n",
    "            res.append(prev)\n",
    "            res.append(str(count))\n",
    "            prev, count = s[i], 1\n",
    "    \n",
    "    res.append(prev)\n",
    "    res.append(str(count))\n",
    "    \n",
    "    if len(s) < len(res):\n",
    "        return s\n",
    "    \n",
    "    return ''.join(res)\n"
   ]
  }
 ],
 "metadata": {
  "kernelspec": {
   "display_name": "Python 3",
   "language": "python",
   "name": "python3"
  },
  "language_info": {
   "codemirror_mode": {
    "name": "ipython",
    "version": 3
   },
   "file_extension": ".py",
   "mimetype": "text/x-python",
   "name": "python",
   "nbconvert_exporter": "python",
   "pygments_lexer": "ipython3",
   "version": "3.6.5"
  }
 },
 "nbformat": 4,
 "nbformat_minor": 2
}
